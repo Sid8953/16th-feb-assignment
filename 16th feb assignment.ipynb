{
 "cells": [
  {
   "cell_type": "markdown",
   "id": "41dfb302-e1de-4085-a37d-abe212ac96da",
   "metadata": {},
   "source": [
    "# ans 1\n",
    "A database is a collection of structured data that is organized in a way that enables efficient storage, retrieval, and manipulation of information. Databases are commonly used in software applications, websites, and other information systems to store and manage large amounts of data.\n",
    "\n",
    "SQL (Structured Query Language) and NoSQL (Not Only SQL) are two different types of databases that have different architectures, data models, and query languages.\n",
    "\n",
    "SQL databases are relational databases that store data in tables with rows and columns. They use a standardized query language, SQL, to manipulate and retrieve data. SQL databases are ideal for structured data with well-defined relationships between different data points. Some examples of SQL databases include MySQL, PostgreSQL, and Oracle.\n",
    "\n",
    "NoSQL databases, on the other hand, are non-relational databases that store data in a more flexible way. They can handle unstructured, semi-structured, and structured data, and they do not require a fixed schema or data model. NoSQL databases use different data models, such as key-value, document, graph, or column-family. Examples of NoSQL databases include MongoDB, Cassandra, and Neo4j.\n",
    "\n",
    "The choice between SQL and NoSQL databases depends on the specific needs of the application or system. SQL databases are good for handling structured data that follows a specific schema, while NoSQL databases are more flexible and scalable for handling unstructured or semi-structured data. NoSQL databases are often preferred for web-scale applications and big data projects, while SQL databases are commonly used in traditional enterprise applications."
   ]
  },
  {
   "cell_type": "markdown",
   "id": "3790031f-ac7e-4033-ba46-294387e1be26",
   "metadata": {},
   "source": [
    "# ans 2\n",
    "DDL stands for Data Definition Language, which is a set of SQL commands that are used to define and manage the structure of database objects such as tables, indexes, views, and constraints. DDL statements are used to create, modify, and delete database objects, as well as to grant or revoke permissions on those objects.\n",
    "\n",
    "Here are some examples of DDL statements and their uses:\n",
    "\n",
    "CREATE: The CREATE statement is used to create new database objects, such as tables, views, indexes, and stored procedures. For example, the following SQL statement creates a new table called \"users\" with three columns: \"id\", \"name\", and \"email\":"
   ]
  },
  {
   "cell_type": "code",
   "execution_count": null,
   "id": "24347949-c0a1-48bf-92ce-90e7f1a603cd",
   "metadata": {},
   "outputs": [],
   "source": [
    "CREATE TABLE users (\n",
    "  id INT PRIMARY KEY,\n",
    "  name VARCHAR(45),\n",
    "  email VARCHAR(90)\n",
    ");"
   ]
  },
  {
   "cell_type": "markdown",
   "id": "99dae2ed-70dd-450c-8b8f-39763e192e29",
   "metadata": {},
   "source": [
    "DROP: The DROP statement is used to remove an existing database object. For example, the following SQL statement drops the \"users\" table that was created in the previous example:"
   ]
  },
  {
   "cell_type": "code",
   "execution_count": null,
   "id": "3df9bcfc-4f2c-40bf-bf92-e5327a183382",
   "metadata": {},
   "outputs": [],
   "source": [
    "DROP TABLE users;"
   ]
  },
  {
   "cell_type": "markdown",
   "id": "d01c6bbc-b936-4151-80b1-e6b266eac9be",
   "metadata": {},
   "source": [
    "ALTER: The ALTER statement is used to modify an existing database object, such as a table or a view. For example, the following SQL statement adds a new column called \"age\" to the \"users\" table:\n",
    "\n",
    "ALTER TABLE users ADD COLUMN age INT;\n",
    "\n",
    "TRUNCATE: The TRUNCATE statement is used to delete all rows from a table, but the table structure remains intact. For example, the following SQL statement deletes all rows from the \"users\" table:"
   ]
  },
  {
   "cell_type": "code",
   "execution_count": null,
   "id": "fb57a324-0425-4f14-98b9-09b1e1740f0f",
   "metadata": {},
   "outputs": [],
   "source": [
    "TRUNCATE TABLE users;"
   ]
  },
  {
   "cell_type": "markdown",
   "id": "d8332660-0c83-4d54-acf9-c31009ddb62b",
   "metadata": {},
   "source": [
    "# ans 3\n",
    "DML stands for Data Manipulation Language, which is a set of SQL commands used to manipulate and modify the data stored in a database. DML statements are used to insert, update, delete, and retrieve data from a database. Here are some examples of DML statements and their uses:\n",
    "\n",
    "INSERT: The INSERT statement is used to add new rows to a table. For example, the following SQL statement inserts a new record into a table named \"users\" with the values \"John Doe\" for the name column, \"sidsingh@ex.com\" for the email column, and 25 for the age column:"
   ]
  },
  {
   "cell_type": "code",
   "execution_count": null,
   "id": "0cba4b90-1fc7-48cb-82a6-b15f7014c6de",
   "metadata": {},
   "outputs": [],
   "source": [
    "INSERT INTO users (name, email, age) VALUES ('Sid Singh', 'sidsingh@ex.com'"
   ]
  },
  {
   "cell_type": "markdown",
   "id": "ce643e44-8278-4597-abb4-dff284a5455c",
   "metadata": {},
   "source": [
    "UPDATE: The UPDATE statement is used to modify existing data in a table. For example, the following SQL statement updates the email of the user with the name \"John Doe\" to \"sid.singh@ex.com\":"
   ]
  },
  {
   "cell_type": "code",
   "execution_count": null,
   "id": "edafc113-1c31-4c5b-8264-49b656880942",
   "metadata": {},
   "outputs": [],
   "source": [
    "UPDATE users SET email = 'sid.singh@ex.com' WHERE name = 'Sid Singh';"
   ]
  },
  {
   "cell_type": "markdown",
   "id": "87e60423-6b42-4961-98b3-5712f1ec5cd5",
   "metadata": {},
   "source": [
    "DML stands for Data Manipulation Language, which is a set of SQL commands used to manipulate and modify the data stored in a database. DML statements are used to insert, update, delete, and retrieve data from a database. Here are some examples of DML statements and their uses:\n",
    "\n",
    "INSERT: The INSERT statement is used to add new rows to a table. For example, the following SQL statement inserts a new record into a table named \"users\" with the values \"John Doe\" for the name column, \"sidsingh@ex.com\" for the email column, and 25 for the age column: sql Copy code INSERT INTO users (name, email, age) VALUES ('Sid Singh', 'sidsingh@ex.com', 25); UPDATE: The UPDATE statement is used to modify existing data in a table. For example, the following SQL statement updates the email of the user with the name \"Sid Singh\" to \"sidsingh@ex.com\": sql Copy code UPDATE users SET email = 'sid.singh@ex.com' WHERE name = 'Sid Singh'; DELETE: The DELETE statement is used to remove existing data from a table. For example, the following SQL statement deletes the user with the name \"John Doe\" from the \"users\" table:"
   ]
  },
  {
   "cell_type": "code",
   "execution_count": null,
   "id": "ace604d8-415e-44d4-a7ab-2ecf4100fca2",
   "metadata": {},
   "outputs": [],
   "source": [
    "DELETE FROM users WHERE name = 'Sid Singh';"
   ]
  },
  {
   "cell_type": "markdown",
   "id": "f2229cee-fc90-4c79-ad98-a021e1ceaf54",
   "metadata": {},
   "source": [
    "# ans 4\n",
    "DQL stands for Data Query Language, which is a subset of SQL used to retrieve data from a database. DQL statements are used to query the database and retrieve specific data based on specified criteria. The most commonly used DQL statement is SELECT.\n",
    "\n",
    "SELECT is used to retrieve data from one or more tables in a database. It allows you to specify the columns to retrieve, the table or tables to retrieve them from, and any conditions that the retrieved data must meet. Here's an example of a SELECT statement:"
   ]
  },
  {
   "cell_type": "code",
   "execution_count": null,
   "id": "54e8ae4f-7f4a-4c95-9d10-10e47da6b84a",
   "metadata": {},
   "outputs": [],
   "source": [
    "SELECT name, email FROM users WHERE age > 25;"
   ]
  },
  {
   "cell_type": "markdown",
   "id": "bd0fb049-0edb-4d2f-942d-528d0be208ed",
   "metadata": {},
   "source": [
    "# ans 5\n",
    "A primary key is a column or set of columns in a table that uniquely identifies each row or record in that table. It ensures that each row in the table is uniquely identifiable and is used to enforce data integrity constraints. A primary key column cannot contain null values and must have a unique value for each row."
   ]
  },
  {
   "cell_type": "code",
   "execution_count": null,
   "id": "d60dadcf-c216-483a-b751-8848db6e6763",
   "metadata": {},
   "outputs": [],
   "source": [
    "CREATE TABLE students (\n",
    "    id INT PRIMARY KEY,\n",
    "    name VARCHAR(45),\n",
    "    email VARCHAR(90),\n",
    "    age INT\n",
    ");"
   ]
  },
  {
   "cell_type": "markdown",
   "id": "9fca39e6-f4e9-4755-8e65-654ed8b6a2c5",
   "metadata": {},
   "source": [
    "A foreign key is a column or set of columns in a table that refers to the primary key of another table. It establishes a link between two tables, which allows data to be retrieved from multiple tables using a single query. A foreign key is used to enforce referential integrity constraints, which ensure that the data in the foreign key column matches the data in the primary key column of the other table."
   ]
  },
  {
   "cell_type": "code",
   "execution_count": null,
   "id": "77ac4641-0a0b-497f-aaab-a3844afd48b2",
   "metadata": {},
   "outputs": [],
   "source": [
    "CREATE TABLE courses (\n",
    "    id INT PRIMARY KEY,\n",
    "    name VARCHAR(45),\n",
    "    instructor_id INT,\n",
    "    FOREIGN KEY (instructor_id) REFERENCES instructors(id)\n",
    ");"
   ]
  },
  {
   "cell_type": "markdown",
   "id": "f7f13f19-cc3e-460b-bd63-bba8d11520a1",
   "metadata": {},
   "source": [
    "# ans 6\n",
    "To connect MySQL to Python, we need to have the mysql-connector-python library installed. We can install it using pip, like this:"
   ]
  },
  {
   "cell_type": "code",
   "execution_count": 2,
   "id": "eeed4836-ddf4-40f0-b171-7c22d94b7a8f",
   "metadata": {},
   "outputs": [
    {
     "name": "stdout",
     "output_type": "stream",
     "text": [
      "Collecting mysql-connector-python\n",
      "  Downloading mysql_connector_python-8.0.33-cp310-cp310-manylinux1_x86_64.whl (27.4 MB)\n",
      "\u001b[2K     \u001b[90m━━━━━━━━━━━━━━━━━━━━━━━━━━━━━━━━━━━━━━━━\u001b[0m \u001b[32m27.4/27.4 MB\u001b[0m \u001b[31m57.4 MB/s\u001b[0m eta \u001b[36m0:00:00\u001b[0m00:01\u001b[0m00:01\u001b[0m\n",
      "\u001b[?25hCollecting protobuf<=3.20.3,>=3.11.0\n",
      "  Downloading protobuf-3.20.3-cp310-cp310-manylinux_2_12_x86_64.manylinux2010_x86_64.whl (1.1 MB)\n",
      "\u001b[2K     \u001b[90m━━━━━━━━━━━━━━━━━━━━━━━━━━━━━━━━━━━━━━━━\u001b[0m \u001b[32m1.1/1.1 MB\u001b[0m \u001b[31m70.0 MB/s\u001b[0m eta \u001b[36m0:00:00\u001b[0m\n",
      "\u001b[?25hInstalling collected packages: protobuf, mysql-connector-python\n",
      "  Attempting uninstall: protobuf\n",
      "    Found existing installation: protobuf 4.21.11\n",
      "    Uninstalling protobuf-4.21.11:\n",
      "      Successfully uninstalled protobuf-4.21.11\n",
      "Successfully installed mysql-connector-python-8.0.33 protobuf-3.20.3\n",
      "Note: you may need to restart the kernel to use updated packages.\n"
     ]
    }
   ],
   "source": [
    "pip install mysql-connector-python"
   ]
  },
  {
   "cell_type": "markdown",
   "id": "d62db21d-12e7-4cac-ac58-e37562e7d247",
   "metadata": {},
   "source": [
    "Once we have installed the library, we can connect to a MySQL database using the following Python code:"
   ]
  },
  {
   "cell_type": "code",
   "execution_count": null,
   "id": "cfee94a8-98d1-49a8-89d5-521840e57cfd",
   "metadata": {},
   "outputs": [],
   "source": [
    "import mysql.connector\n",
    "\n",
    "mydb = mysql.connector.connect(\n",
    "  host=\"localhost\",\n",
    "  user=\"username\",\n",
    "  password=\"password\",\n",
    "  database=\"database\"\n",
    ")\n",
    "\n",
    "mycursor = mydb.cursor()"
   ]
  },
  {
   "cell_type": "markdown",
   "id": "65b818a4-d667-4d9d-b360-daa6ef118ed8",
   "metadata": {},
   "source": [
    "In this code, we first import the mysql.connector module and use the connect() method to establish a connection to the MySQL database. We need to provide the database connection details, such as the host, username, password, and database name.\n",
    "\n",
    "After establishing the connection, we create a cursor object using the cursor() method of the database connection object. The cursor object allows us to execute SQL statements on the database.\n",
    "\n",
    "The execute() method is used to execute an SQL statement on the database using the cursor object. It takes an SQL statement as its parameter and returns the result of the statement, if any. Here's an example of how to use the execute() method to execute a SELECT statement:"
   ]
  },
  {
   "cell_type": "code",
   "execution_count": null,
   "id": "9844b58a-b09b-4ae5-896c-80cac468a37a",
   "metadata": {},
   "outputs": [],
   "source": [
    "sql = \"SELECT * FROM customers\"\n",
    "\n",
    "mycursor.execute(sql)\n",
    "\n",
    "myresult = mycursor.fetchall()\n",
    "\n",
    "for x in myresult:\n",
    "  print(x)"
   ]
  },
  {
   "cell_type": "markdown",
   "id": "58a714cb-9073-4e0d-9466-41acb63f4366",
   "metadata": {},
   "source": [
    "In this code, you first define an SQL SELECT statement and store it in the sql variable. You then call the execute() method on the cursor object, passing the sql variable as its parameter. This executes the SELECT statement on the database and returns the result.\n",
    "\n",
    "The fetchall() method is used to fetch all the rows returned by the SELECT statement. It returns a list of tuples, where each tuple represents a row in the result set. You can then loop through the result set and print each row, as shown in the code above.\n",
    "\n",
    "In summary, the cursor() method is used to create a cursor object, which allows you to execute SQL statements on the database. The execute() method is used to execute an SQL statement on the database using the cursor object, and the fetchall() method is used to retrieve the results of the SQL statement."
   ]
  },
  {
   "cell_type": "markdown",
   "id": "f68dfc54-6490-49d6-9f2e-db9e55ee7c5e",
   "metadata": {},
   "source": [
    "# ans 7\n",
    "The order of execution of SQL clauses in an SQL query can be summarized as follows:\n",
    "\n",
    "FROM clause: The FROM clause specifies the table or tables from which the data will be retrieved. If multiple tables are used, they may be joined using the JOIN clause.\n",
    "\n",
    "WHERE clause: The WHERE clause filters the data based on a specified condition or set of conditions. It is used to retrieve only the rows that meet the specified criteria.\n",
    "\n",
    "GROUP BY clause: The GROUP BY clause is used to group the result set by one or more columns. It is often used in conjunction with aggregate functions, such as COUNT, SUM, AVG, etc.\n",
    "\n",
    "HAVING clause: The HAVING clause is used to filter the result set based on a specified condition or set of conditions. It is similar to the WHERE clause, but it is applied after the data has been grouped by the GROUP BY clause.\n",
    "\n",
    "SELECT clause: The SELECT clause specifies the columns that will be included in the result set. It can also be used to apply functions or expressions to the data, such as CONCAT, DATE_FORMAT, etc.\n",
    "\n",
    "ORDER BY clause: The ORDER BY clause is used to sort the result set based on one or more columns. It can sort the data in ascending or descending order.\n",
    "\n",
    "LIMIT clause: The LIMIT clause is used to limit the number of rows returned by the query. It is often used in conjunction with the ORDER BY clause to retrieve the top N rows based on a specified criteria.\n",
    "\n",
    "It's important to note that not all clauses are required in every query. The basic syntax of an SQL query is:"
   ]
  },
  {
   "cell_type": "code",
   "execution_count": null,
   "id": "1215595c-642a-4d7a-9b04-282009d407fc",
   "metadata": {},
   "outputs": [],
   "source": [
    "SELECT column1, column2, ...\n",
    "FROM table_name\n",
    "WHERE condition;"
   ]
  },
  {
   "cell_type": "code",
   "execution_count": null,
   "id": "73515a24-7d3f-41d4-ae70-fd16cadaa5c4",
   "metadata": {},
   "outputs": [],
   "source": []
  }
 ],
 "metadata": {
  "kernelspec": {
   "display_name": "Python 3 (ipykernel)",
   "language": "python",
   "name": "python3"
  },
  "language_info": {
   "codemirror_mode": {
    "name": "ipython",
    "version": 3
   },
   "file_extension": ".py",
   "mimetype": "text/x-python",
   "name": "python",
   "nbconvert_exporter": "python",
   "pygments_lexer": "ipython3",
   "version": "3.10.8"
  }
 },
 "nbformat": 4,
 "nbformat_minor": 5
}
